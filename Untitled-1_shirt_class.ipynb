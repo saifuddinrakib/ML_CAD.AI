{
 "cells": [
  {
   "cell_type": "code",
   "execution_count": 10,
   "metadata": {},
   "outputs": [],
   "source": [
    "class Shirt:\n",
    "     def __init__ (self, shirt_color,shirt_size,shirt_style,shirt_price):\n",
    "        self.color=shirt_color\n",
    "        self.size=shirt_size\n",
    "        self.style=shirt_style\n",
    "        self.price=shirt_price\n",
    "\n",
    "     def change_price(self, new_price):\n",
    "         self.price=new_price\n",
    "     def discount(self,discount):\n",
    "         return self.price * (1- discount)"
   ]
  },
  {
   "cell_type": "code",
   "execution_count": 11,
   "metadata": {},
   "outputs": [
    {
     "data": {
      "text/plain": [
       "<__main__.Shirt at 0x2ed730b2590>"
      ]
     },
     "execution_count": 11,
     "metadata": {},
     "output_type": "execute_result"
    }
   ],
   "source": [
    "Shirt ('red', 'S', 'short_sleeve', 15 )"
   ]
  },
  {
   "cell_type": "code",
   "execution_count": 13,
   "metadata": {},
   "outputs": [],
   "source": [
    "new_shirt=Shirt('red', 'S', 'short_sleeve', 15)"
   ]
  },
  {
   "cell_type": "code",
   "execution_count": 14,
   "metadata": {},
   "outputs": [
    {
     "name": "stdout",
     "output_type": "stream",
     "text": [
      "red\n",
      "S\n",
      "short_sleeve\n",
      "15\n"
     ]
    }
   ],
   "source": [
    "print(new_shirt.color)\n",
    "print(new_shirt.size)\n",
    "print(new_shirt.style)\n",
    "print(new_shirt.price)"
   ]
  },
  {
   "cell_type": "code",
   "execution_count": 15,
   "metadata": {},
   "outputs": [
    {
     "name": "stdout",
     "output_type": "stream",
     "text": [
      "10\n"
     ]
    }
   ],
   "source": [
    "new_shirt.change_price(10)\n",
    "print(new_shirt.price)"
   ]
  },
  {
   "cell_type": "code",
   "execution_count": 16,
   "metadata": {},
   "outputs": [
    {
     "name": "stdout",
     "output_type": "stream",
     "text": [
      "8.0\n"
     ]
    }
   ],
   "source": [
    "print(new_shirt.discount(.2))"
   ]
  },
  {
   "cell_type": "code",
   "execution_count": 17,
   "metadata": {},
   "outputs": [
    {
     "name": "stdout",
     "output_type": "stream",
     "text": [
      "orange\n",
      "red\n",
      "PURPLE\n"
     ]
    }
   ],
   "source": [
    "tshirt_collection=[]\n",
    "shirt_one=Shirt('orange', 'M', 'short_sleeve', 25 )\n",
    "shirt_two=Shirt('red', 'S', 'short_sleeve', 15 )\n",
    "shirt_three=Shirt('PURPLE', 'XL', 'short_sleeve', 10 )\n",
    "\n",
    "\n",
    "tshirt_collection.append(shirt_one)\n",
    "tshirt_collection.append(shirt_two)\n",
    "tshirt_collection.append(shirt_three)\n",
    "\n",
    "for i in range (len(tshirt_collection)):\n",
    "    print(tshirt_collection[i].color)\n"
   ]
  }
 ],
 "metadata": {
  "kernelspec": {
   "display_name": "Python 3",
   "language": "python",
   "name": "python3"
  },
  "language_info": {
   "codemirror_mode": {
    "name": "ipython",
    "version": 3
   },
   "file_extension": ".py",
   "mimetype": "text/x-python",
   "name": "python",
   "nbconvert_exporter": "python",
   "pygments_lexer": "ipython3",
   "version": "3.11.1"
  },
  "orig_nbformat": 4,
  "vscode": {
   "interpreter": {
    "hash": "f83bce301a154ad5899b01433216327d83ce29f5313515165c380a09d19e04e6"
   }
  }
 },
 "nbformat": 4,
 "nbformat_minor": 2
}
